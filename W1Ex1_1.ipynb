{
  "nbformat": 4,
  "nbformat_minor": 0,
  "metadata": {
    "colab": {
      "name": "W1Ex1.1",
      "provenance": [],
      "authorship_tag": "ABX9TyM87B9O5NFz6qnqLNkVetP8",
      "include_colab_link": true
    },
    "kernelspec": {
      "name": "python3",
      "display_name": "Python 3"
    },
    "language_info": {
      "name": "python"
    }
  },
  "cells": [
    {
      "cell_type": "markdown",
      "metadata": {
        "id": "view-in-github",
        "colab_type": "text"
      },
      "source": [
        "<a href=\"https://colab.research.google.com/github/egarza1996/Python-for-Engineering-Data-Analysis/blob/main/W1Ex1_1.ipynb\" target=\"_parent\"><img src=\"https://colab.research.google.com/assets/colab-badge.svg\" alt=\"Open In Colab\"/></a>"
      ]
    },
    {
      "cell_type": "code",
      "metadata": {
        "colab": {
          "base_uri": "https://localhost:8080/"
        },
        "id": "KEc5vs4xjvU3",
        "outputId": "3787d212-ebac-4f2c-e68b-bd89af90269b"
      },
      "source": [
        "def top(spacesBefore):\n",
        "    print( \" \" * spacesBefore + \"***\")\n",
        "    \n",
        "def side(spacesBefore, spacesBetween):\n",
        "    print( \" \" * spacesBefore + \"*\" + \" \" * spacesBetween + \"*\")\n",
        "\n",
        "def bottom(spacesBefore, spacesBetween):\n",
        "    print( \" \" * spacesBefore + \"***\" + \" \" * spacesBetween + \"***\")\n",
        "\n",
        "def art(N):\n",
        "    top(2*N)\n",
        "    for i in range(N):              #loop from 0 to N-1\n",
        "        side(2*(N-i), 1+(4*i))\n",
        "        bottom(2*(N-i-1), 1+(4*i))\n",
        "    side(0, 4*N+1)\n",
        "    for i in range(N-1, -1, -1):    #loop from N-1 to 0\n",
        "        bottom(2*(N-i-1), 1+(4*i))\n",
        "        side(2*(N-i), 1+(4*i))\n",
        "    top(2*N)\n",
        "\n",
        "art(5)"
      ],
      "execution_count": 6,
      "outputs": [
        {
          "output_type": "stream",
          "text": [
            "          ***\n",
            "          * *\n",
            "        *** ***\n",
            "        *     *\n",
            "      ***     ***\n",
            "      *         *\n",
            "    ***         ***\n",
            "    *             *\n",
            "  ***             ***\n",
            "  *                 *\n",
            "***                 ***\n",
            "*                     *\n",
            "***                 ***\n",
            "  *                 *\n",
            "  ***             ***\n",
            "    *             *\n",
            "    ***         ***\n",
            "      *         *\n",
            "      ***     ***\n",
            "        *     *\n",
            "        *** ***\n",
            "          * *\n",
            "          ***\n"
          ],
          "name": "stdout"
        }
      ]
    }
  ]
}