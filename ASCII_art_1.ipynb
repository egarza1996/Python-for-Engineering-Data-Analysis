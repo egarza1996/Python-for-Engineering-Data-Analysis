{
  "nbformat": 4,
  "nbformat_minor": 0,
  "metadata": {
    "colab": {
      "name": "ASCII-art-1.ipynb",
      "provenance": [],
      "authorship_tag": "ABX9TyNUHDS2MoBC1UNN3Tjie4Ak",
      "include_colab_link": true
    },
    "kernelspec": {
      "name": "python3",
      "display_name": "Python 3"
    },
    "language_info": {
      "name": "python"
    }
  },
  "cells": [
    {
      "cell_type": "markdown",
      "metadata": {
        "id": "view-in-github",
        "colab_type": "text"
      },
      "source": [
        "<a href=\"https://colab.research.google.com/github/egarza1996/Python-for-Engineering-Data-Analysis/blob/main/ASCII_art_1.ipynb\" target=\"_parent\"><img src=\"https://colab.research.google.com/assets/colab-badge.svg\" alt=\"Open In Colab\"/></a>"
      ]
    },
    {
      "cell_type": "code",
      "metadata": {
        "id": "4BfemHQ7d5UY"
      },
      "source": [
        "while True:\n",
        "  s = input(\"Give me a number to make a drawing with that is between 0 and 100: \")\n",
        "\n",
        "if not s.isdigit():\n",
        "    print (\"Error, only numbers will make this program run.\")\n",
        "    continue #Try Again but with a number this time\n",
        "\n",
        "if int(s) >= 100:\n",
        "    print (\"The number is bigger than or equal to 100 and won't work. \\nDo try again.\")\n",
        "    continue #try again\n",
        "\n",
        "if int(s) <= 0:\n",
        "    print (\"The number is smaller than or equal to 0 and won't work. \\nDo try again.\")\n",
        "    continue #try again\n",
        "\n",
        "else:\n",
        "    print (\"%5s\" %(\"*\" *3),\"\\n\"'%5s' %(\"* *\"),\"\\n\" '%7s' %(\"*** ***\"),\"\\n\" '%7s' %(\"*     *\"),\"\\n\" '%7s' %(\"*** ***\"),\"\\n\" '%5s' %(\"* *\"),\"\\n\" '%5s' %(\"*\" *3))\n",
        "\n",
        "print ('Want to make another drawing ?')\n",
        "continue #make another drawing"
      ],
      "execution_count": 10,
      "outputs": []
    },
    {
      "cell_type": "code",
      "metadata": {
        "colab": {
          "base_uri": "https://localhost:8080/"
        },
        "id": "3dA1YuAke-3z",
        "outputId": "f55a8351-84ef-47e2-dc64-b51ef5dfaec3"
      },
      "source": [
        "def cap(spacesBefore):\n",
        "    print( \" \" * spacesBefore + \"***\")\n",
        "\n",
        "def wall(spacesBefore, spacesBetween):\n",
        "    print( \" \" * spacesBefore + \"*\" + \" \" * spacesBetween + \"*\")\n",
        "\n",
        "def floor(spacesBefore, spacesBetween):\n",
        "    print( \" \" * spacesBefore + \"***\" + \" \" * spacesBetween + \"***\")\n",
        "\n",
        "#size 0\n",
        "cap(0)\n",
        "wall(0,1)\n",
        "cap(0)\n",
        "\n",
        "print( \"\\n\")\n",
        "\n",
        "#size 1\n",
        "cap(2)\n",
        "wall(2, 1)\n",
        "floor(0, 1)\n",
        "wall(0, 5)\n",
        "floor(0, 1)\n",
        "wall(2, 1)\n",
        "cap(2)\n",
        "\n",
        "print( \"\\n\")\n",
        "\n",
        "#size 2\n",
        "cap(4)\n",
        "wall(4, 1)\n",
        "floor(2, 1)\n",
        "wall(2, 5)\n",
        "floor(0, 5)\n",
        "wall(0, 9)\n",
        "floor(0, 5)\n",
        "wall(2, 5)\n",
        "floor(2, 1)\n",
        "wall(4, 1)\n",
        "cap(4)"
      ],
      "execution_count": 10,
      "outputs": [
        {
          "output_type": "stream",
          "text": [
            "***\n",
            "* *\n",
            "***\n",
            "\n",
            "\n",
            "  ***\n",
            "  * *\n",
            "*** ***\n",
            "*     *\n",
            "*** ***\n",
            "  * *\n",
            "  ***\n",
            "\n",
            "\n",
            "    ***\n",
            "    * *\n",
            "  *** ***\n",
            "  *     *\n",
            "***     ***\n",
            "*         *\n",
            "***     ***\n",
            "  *     *\n",
            "  *** ***\n",
            "    * *\n",
            "    ***\n"
          ],
          "name": "stdout"
        }
      ]
    },
    {
      "cell_type": "code",
      "metadata": {
        "colab": {
          "base_uri": "https://localhost:8080/"
        },
        "id": "ODKaaLCagM7c",
        "outputId": "1d42c922-cd06-4b13-9ede-1029f3582e81"
      },
      "source": [
        "def draw(N):\n",
        "    cap(2*N)\n",
        "    for i in range(N):              #loop from 0 to N-1\n",
        "        wall(2*(N-i), 1+(4*i))\n",
        "        floor(2*(N-i-1), 1+(4*i))\n",
        "    wall(0, 4*N+1)\n",
        "    for i in range(N-1, -1, -1):    #loop from N-1 to 0\n",
        "        floor(2*(N-i-1), 1+(4*i))\n",
        "        wall(2*(N-i), 1+(4*i))\n",
        "    cap(2*N)\n",
        "\n",
        "draw(1)"
      ],
      "execution_count": 20,
      "outputs": [
        {
          "output_type": "stream",
          "text": [
            "  ***\n",
            "  * *\n",
            "*** ***\n",
            "*     *\n",
            "*** ***\n",
            "  * *\n",
            "  ***\n"
          ],
          "name": "stdout"
        }
      ]
    }
  ]
}